{
 "cells": [
  {
   "cell_type": "markdown",
   "metadata": {},
   "source": [
    "## [作業重點]\n",
    "使用 Sklearn 中的 Lasso, Ridge 模型，來訓練各種資料集，務必了解送進去模型訓練的**資料型態**為何，也請了解模型中各項參數的意義。\n",
    "\n",
    "機器學習的模型非常多種，但要訓練的資料多半有固定的格式，確保你了解訓練資料的格式為何，這樣在應用新模型時，就能夠最快的上手開始訓練！"
   ]
  },
  {
   "cell_type": "markdown",
   "metadata": {},
   "source": [
    "## 練習時間\n",
    "試著使用 sklearn datasets 的其他資料集 (boston, ...)，來訓練自己的線性迴歸模型，並加上適當的正則化來觀察訓練情形。"
   ]
  },
  {
   "cell_type": "code",
   "execution_count": 7,
   "metadata": {},
   "outputs": [],
   "source": [
    "import numpy as np\n",
    "from sklearn.linear_model import LinearRegression,Lasso,Ridge\n",
    "from sklearn.model_selection import train_test_split\n",
    "import sklearn.metrics as metrics\n",
    "import sklearn.datasets as datasets"
   ]
  },
  {
   "cell_type": "code",
   "execution_count": 8,
   "metadata": {},
   "outputs": [
    {
     "name": "stderr",
     "output_type": "stream",
     "text": [
      "c:\\Users\\ilyi\\AppData\\Local\\Programs\\Python\\Python310\\lib\\site-packages\\sklearn\\utils\\deprecation.py:87: FutureWarning: Function load_boston is deprecated; `load_boston` is deprecated in 1.0 and will be removed in 1.2.\n",
      "\n",
      "    The Boston housing prices dataset has an ethical problem. You can refer to\n",
      "    the documentation of this function for further details.\n",
      "\n",
      "    The scikit-learn maintainers therefore strongly discourage the use of this\n",
      "    dataset unless the purpose of the code is to study and educate about\n",
      "    ethical issues in data science and machine learning.\n",
      "\n",
      "    In this special case, you can fetch the dataset from the original\n",
      "    source::\n",
      "\n",
      "        import pandas as pd\n",
      "        import numpy as np\n",
      "\n",
      "        data_url = \"http://lib.stat.cmu.edu/datasets/boston\"\n",
      "        raw_df = pd.read_csv(data_url, sep=\"\\s+\", skiprows=22, header=None)\n",
      "        data = np.hstack([raw_df.values[::2, :], raw_df.values[1::2, :2]])\n",
      "        target = raw_df.values[1::2, 2]\n",
      "\n",
      "    Alternative datasets include the California housing dataset (i.e.\n",
      "    :func:`~sklearn.datasets.fetch_california_housing`) and the Ames housing\n",
      "    dataset. You can load the datasets as follows::\n",
      "\n",
      "        from sklearn.datasets import fetch_california_housing\n",
      "        housing = fetch_california_housing()\n",
      "\n",
      "    for the California housing dataset and::\n",
      "\n",
      "        from sklearn.datasets import fetch_openml\n",
      "        housing = fetch_openml(name=\"house_prices\", as_frame=True)\n",
      "\n",
      "    for the Ames housing dataset.\n",
      "  warnings.warn(msg, category=FutureWarning)\n"
     ]
    },
    {
     "name": "stdout",
     "output_type": "stream",
     "text": [
      "MSE : 21.517444231177386\n",
      "LinearRegression coef : [-1.33470103e-01  3.58089136e-02  4.95226452e-02  3.11983512e+00\n",
      " -1.54170609e+01  4.05719923e+00 -1.08208352e-02 -1.38599824e+00\n",
      "  2.42727340e-01 -8.70223437e-03 -9.10685208e-01  1.17941159e-02\n",
      " -5.47113313e-01]\n"
     ]
    }
   ],
   "source": [
    "boston = datasets.load_boston()\n",
    "boston.data\n",
    "X_train,X_test, y_train, y_test = train_test_split(boston.data, boston.target, test_size = 0.3, random_state = 42)\n",
    "Linear = LinearRegression()\n",
    "Linear.fit(X_train,y_train)\n",
    "y_pred = Linear.predict(X_test)\n",
    "print(f\"MSE : {metrics.mean_squared_error(y_test, y_pred)}\")\n",
    "print(f\"LinearRegression coef : {Linear.coef_}\")"
   ]
  },
  {
   "cell_type": "markdown",
   "metadata": {},
   "source": [
    "#### Lasso"
   ]
  },
  {
   "cell_type": "code",
   "execution_count": 14,
   "metadata": {},
   "outputs": [
    {
     "name": "stdout",
     "output_type": "stream",
     "text": [
      "Lasso MSE : 3.3959415858680737\n",
      "Lasso coef : [-1.11822843e-01  3.78929743e-02 -0.00000000e+00  0.00000000e+00\n",
      " -0.00000000e+00  2.73139949e+00 -1.84821897e-03 -8.82992807e-01\n",
      "  2.14258964e-01 -1.04038380e-02 -7.33537515e-01  1.19146001e-02\n",
      " -6.89643865e-01]\n"
     ]
    }
   ],
   "source": [
    "X_train, X_test, y_train, y_test = train_test_split(boston.data, boston.target, test_size=0.3, random_state=42)\n",
    "lso = Lasso(alpha = 0.5)\n",
    "lso.fit(X_train, y_train)\n",
    "y_pred = lso.predict(X_test)\n",
    "print(\"Lasso MSE :\",metrics.mean_absolute_error(y_test,y_pred))\n",
    "print(\"Lasso coef :\", lso.coef_)"
   ]
  },
  {
   "cell_type": "markdown",
   "metadata": {},
   "source": [
    "#### Ridge regression"
   ]
  },
  {
   "cell_type": "code",
   "execution_count": 17,
   "metadata": {},
   "outputs": [
    {
     "name": "stdout",
     "output_type": "stream",
     "text": [
      "Ridge MSE : 3.1682356529135163\n",
      "Ridge coef : [-1.11822843e-01  3.78929743e-02 -0.00000000e+00  0.00000000e+00\n",
      " -0.00000000e+00  2.73139949e+00 -1.84821897e-03 -8.82992807e-01\n",
      "  2.14258964e-01 -1.04038380e-02 -7.33537515e-01  1.19146001e-02\n",
      " -6.89643865e-01]\n"
     ]
    }
   ],
   "source": [
    "Ridgr = Ridge(alpha = 0.5)\n",
    "Ridgr.fit(X_train, y_train)\n",
    "y_pred = Ridgr.predict(X_test)\n",
    "print(\"Ridge MSE :\",metrics.mean_absolute_error(y_test,y_pred))\n",
    "print(\"Ridge coef :\", lso.coef_)"
   ]
  }
 ],
 "metadata": {
  "kernelspec": {
   "display_name": "Python 3.10.4 64-bit",
   "language": "python",
   "name": "python3"
  },
  "language_info": {
   "codemirror_mode": {
    "name": "ipython",
    "version": 3
   },
   "file_extension": ".py",
   "mimetype": "text/x-python",
   "name": "python",
   "nbconvert_exporter": "python",
   "pygments_lexer": "ipython3",
   "version": "3.10.4"
  },
  "vscode": {
   "interpreter": {
    "hash": "a2f55ac2bbb09d55ed3d38697154473525b9a09b15ed10df2d3d339621751f17"
   }
  }
 },
 "nbformat": 4,
 "nbformat_minor": 2
}
