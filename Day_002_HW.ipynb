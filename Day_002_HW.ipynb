{
 "cells": [
  {
   "cell_type": "markdown",
   "metadata": {},
   "source": [
    "## [作業目標]\n",
    "了解機器學習適合應用的領域與範疇。"
   ]
  },
  {
   "cell_type": "markdown",
   "metadata": {},
   "source": [
    "## [作業重點]\n",
    "透過瞭解機器學習的運作方式，找出非常適用機器學習應用的領域及其原因"
   ]
  },
  {
   "cell_type": "markdown",
   "metadata": {},
   "source": [
    "## 作業\n",
    "請找出一個你認為機器學習可以發光發熱的領域並闡述原因? "
   ]
  },
  {
   "cell_type": "markdown",
   "metadata": {},
   "source": [
    "領域：教育領域(含線上線下)\n",
    "原因：\n",
    " 1. 知識大多是固定：基本上大多教育的學科，國文/英文/數學/歷史/地理/物理/化學，除了偶而物理化學可能會有新突破外，<br>\n",
    "    大多數的學科知識是固定的，可以透過ML去開發AI機器人幫助老師/學生減輕教學負擔/增加獲取知識的效率\n",
    " 2. 資料易取得：除了知識容易取得，基本上現在國內外很多學習平台，後台可能都有分析系統，可以知道學員的上課情形，<br>\n",
    "    以及考試成績的變化，以及了解那些學科/課程/老師教學作風，同學比較喜歡\n",
    " "
   ]
  }
 ],
 "metadata": {
  "kernelspec": {
   "display_name": "Python 3",
   "language": "python",
   "name": "python3"
  },
  "language_info": {
   "codemirror_mode": {
    "name": "ipython",
    "version": 3
   },
   "file_extension": ".py",
   "mimetype": "text/x-python",
   "name": "python",
   "nbconvert_exporter": "python",
   "pygments_lexer": "ipython3",
   "version": "3.7.0"
  }
 },
 "nbformat": 4,
 "nbformat_minor": 2
}
