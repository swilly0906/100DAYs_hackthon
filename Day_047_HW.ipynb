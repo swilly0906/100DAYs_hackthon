{
 "cells": [
  {
   "cell_type": "markdown",
   "metadata": {},
   "source": [
    "### 作業\n",
    "請使用不同的資料集，並使用 hyper-parameter search 的方式，看能不能找出最佳的超參數組合"
   ]
  },
  {
   "cell_type": "code",
   "execution_count": 7,
   "metadata": {},
   "outputs": [],
   "source": [
    "from sklearn import datasets, metrics\n",
    "from sklearn.model_selection import train_test_split, GridSearchCV\n",
    "from sklearn.ensemble import GradientBoostingClassifier\n",
    "import numpy as np\n"
   ]
  },
  {
   "cell_type": "code",
   "execution_count": 8,
   "metadata": {},
   "outputs": [
    {
     "name": "stdout",
     "output_type": "stream",
     "text": [
      "accuracy : 0.9166666666666666\n"
     ]
    }
   ],
   "source": [
    "wine = datasets.load_wine()\n",
    "\n",
    "X_train, X_test, y_train, y_test = train_test_split(wine.data, wine.target, test_size=0.2, random_state=50)\n",
    "\n",
    "clf = GradientBoostingClassifier(random_state=50)\n",
    "\n",
    "clf.fit(X_train, y_train)\n",
    "\n",
    "y_pred = clf.predict(X_test)\n",
    "\n",
    "print(\"accuracy :\", metrics.accuracy_score(y_test, y_pred))"
   ]
  },
  {
   "cell_type": "code",
   "execution_count": 11,
   "metadata": {},
   "outputs": [
    {
     "data": {
      "text/plain": [
       "[100, 200, 300, 400, 500]"
      ]
     },
     "execution_count": 11,
     "metadata": {},
     "output_type": "execute_result"
    }
   ],
   "source": [
    "list(np.linspace(100,500,5).astype(int))"
   ]
  },
  {
   "cell_type": "code",
   "execution_count": 12,
   "metadata": {},
   "outputs": [
    {
     "name": "stdout",
     "output_type": "stream",
     "text": [
      "Fitting 5 folds for each of 25 candidates, totalling 125 fits\n"
     ]
    }
   ],
   "source": [
    "n_estimators = list(np.linspace(100, 500, 5).astype(int))\n",
    "max_depth = list(np.linspace(1, 9, 5).astype(int))\n",
    "para_grid = dict(n_estimators = n_estimators, max_depth = max_depth)\n",
    "grid_search = GridSearchCV(clf,para_grid, scoring=\"accuracy\", verbose=1, n_jobs=-1)\n",
    "grid_result = grid_search.fit(X_train,y_train)"
   ]
  },
  {
   "cell_type": "code",
   "execution_count": 13,
   "metadata": {},
   "outputs": [
    {
     "name": "stdout",
     "output_type": "stream",
     "text": [
      "accuarcy : 0.9716748768472907\n",
      "parameter : {'max_depth': 1, 'n_estimators': 200}\n"
     ]
    }
   ],
   "source": [
    "print(\"accuarcy :\", grid_result.best_score_)\n",
    "print(\"parameter :\", grid_result.best_params_)"
   ]
  },
  {
   "cell_type": "code",
   "execution_count": 14,
   "metadata": {},
   "outputs": [
    {
     "name": "stdout",
     "output_type": "stream",
     "text": [
      "accuracy : 0.9444444444444444\n"
     ]
    }
   ],
   "source": [
    "clf_best = GradientBoostingClassifier(n_estimators=grid_result.best_params_[\"n_estimators\"], max_depth=grid_result.best_params_[\"max_depth\"], random_state=50)\n",
    "\n",
    "clf_best.fit(X_train, y_train)\n",
    "\n",
    "y_test = clf_best.predict(X_test)\n",
    "\n",
    "print(\"accuracy :\", metrics.accuracy_score(y_test, y_pred))"
   ]
  }
 ],
 "metadata": {
  "kernelspec": {
   "display_name": "Python 3",
   "language": "python",
   "name": "python3"
  },
  "language_info": {
   "codemirror_mode": {
    "name": "ipython",
    "version": 3
   },
   "file_extension": ".py",
   "mimetype": "text/x-python",
   "name": "python",
   "nbconvert_exporter": "python",
   "pygments_lexer": "ipython3",
   "version": "3.10.4"
  },
  "vscode": {
   "interpreter": {
    "hash": "a2f55ac2bbb09d55ed3d38697154473525b9a09b15ed10df2d3d339621751f17"
   }
  }
 },
 "nbformat": 4,
 "nbformat_minor": 4
}
